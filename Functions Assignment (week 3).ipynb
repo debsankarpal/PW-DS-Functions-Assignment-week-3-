{
 "cells": [
  {
   "cell_type": "markdown",
   "id": "f182c358-d9e0-49a5-83ab-060965d26aeb",
   "metadata": {},
   "source": [
    "Q1. Which keyword is used to create a function? Create a function to return a list of odd numbers in the\n",
    "range of 1 to 25."
   ]
  },
  {
   "cell_type": "markdown",
   "id": "7e3bf5dd-f3f8-4d2a-80f4-e3c6d72aa666",
   "metadata": {},
   "source": [
    "#Q1 Answer\n",
    "\"def\" keyword is used to create a function."
   ]
  },
  {
   "cell_type": "code",
   "execution_count": 4,
   "id": "edf3c03c-d3aa-4a3f-b6a0-84626a50f78a",
   "metadata": {},
   "outputs": [
    {
     "name": "stdout",
     "output_type": "stream",
     "text": [
      "[1, 2, 3, 4, 5, 6, 7, 8, 9, 10, 11, 12, 13, 14, 15, 16, 17, 18, 19, 20, 21, 22, 23, 24, 25]\n"
     ]
    }
   ],
   "source": [
    "#Q1 Answer\n",
    "n = range(1,26)\n",
    "def Odd_num(n):\n",
    "    l = []\n",
    "    for i in n :\n",
    "        l.append(i)\n",
    "    return l\n",
    "print(Odd_num(n))"
   ]
  },
  {
   "cell_type": "markdown",
   "id": "e12c8fd5-888f-4941-b42d-61f359521ca5",
   "metadata": {},
   "source": [
    "Q2. Why *args and **kwargs is used in some functions? Create a function each for *args and **kwargs to\n",
    "demonstrate their use."
   ]
  },
  {
   "cell_type": "markdown",
   "id": "f5ffd263-24a1-47fd-b0e0-70bfb3f9e07f",
   "metadata": {
    "tags": []
   },
   "source": [
    "#Q2 Answer\n",
    "*args is used to take any number of argumnets in a function. \n",
    "**kwargs is used to take arguments as key-value pair(dictionary) in a function."
   ]
  },
  {
   "cell_type": "code",
   "execution_count": 6,
   "id": "4d5d89f1-a215-43d8-b384-5a7c8c559161",
   "metadata": {},
   "outputs": [
    {
     "name": "stdout",
     "output_type": "stream",
     "text": [
      "(2, 3, 5, 'hello', True)\n"
     ]
    }
   ],
   "source": [
    "#Q2 Answer\n",
    "def func1(*args):\n",
    "    return args\n",
    "print(func1(2,3,5,\"hello\",True))"
   ]
  },
  {
   "cell_type": "code",
   "execution_count": 7,
   "id": "3f18cec1-1b03-4779-a343-b6227f9f6ed8",
   "metadata": {},
   "outputs": [
    {
     "name": "stdout",
     "output_type": "stream",
     "text": [
      "{'name': 'Debsankar', 'age': '23', 'nationality': 'Indian'}\n"
     ]
    }
   ],
   "source": [
    "#Q2 Answer\n",
    "def func2(**kwargs):\n",
    "    return kwargs\n",
    "print(func2(name = 'Debsankar',age = '23',nationality = 'Indian'))"
   ]
  },
  {
   "cell_type": "markdown",
   "id": "63ef6234-35f1-40eb-a578-23b8a3213062",
   "metadata": {},
   "source": [
    "Q3. What is an iterator in python? Name the method used to initialise the iterator object and the method\n",
    "used for iteration. Use these methods to print the first five elements of the given list [2, 4, 6, 8, 10, 12, 14, 16,\n",
    "18, 20]."
   ]
  },
  {
   "cell_type": "code",
   "execution_count": null,
   "id": "d8dcba5f-dc8a-4ce9-997a-76bb129aefb3",
   "metadata": {},
   "outputs": [],
   "source": [
    "#Q3 Answer \n",
    "Iterator in python means a perticular code will be iterated the collections of data in a list or tuple or any \n",
    "iterable objects and give output as iterable object  one by one.\n",
    "The Python iterator uses to initialize using the iter() method and It uses the next() method for iteration."
   ]
  },
  {
   "cell_type": "code",
   "execution_count": 8,
   "id": "6aa58e32-8516-4849-937a-90b5e7a3c6ce",
   "metadata": {},
   "outputs": [
    {
     "name": "stdout",
     "output_type": "stream",
     "text": [
      "2\n",
      "4\n",
      "6\n",
      "8\n",
      "10\n"
     ]
    }
   ],
   "source": [
    "#Q3 Answer\n",
    "l1 = [2, 4, 6, 8, 10, 12, 14, 16, 18, 20]\n",
    "iter_lst = iter(l1)\n",
    "print(next(iter_lst))\n",
    "print(next(iter_lst))\n",
    "print(next(iter_lst))\n",
    "print(next(iter_lst))\n",
    "print(next(iter_lst))"
   ]
  },
  {
   "cell_type": "markdown",
   "id": "bade5a5c-ac98-4cb4-be73-8c5c3e8d0b56",
   "metadata": {},
   "source": [
    "Q4. What is a generator function in python? Why yield keyword is used? Give an example of a generator\n",
    "function."
   ]
  },
  {
   "cell_type": "markdown",
   "id": "65119476-cd6c-4296-b27c-eaf327c9d173",
   "metadata": {},
   "source": [
    "#Q4 Answer\n",
    "A generator function is a type of function which generates output one at a tiem and uses less memory.\n",
    "'yield' keyword is used to temporarily suspend the function's execution and returns the yielded value."
   ]
  },
  {
   "cell_type": "code",
   "execution_count": 29,
   "id": "939d2806-e5a7-4535-94fd-dd183d3afe2d",
   "metadata": {},
   "outputs": [
    {
     "name": "stdout",
     "output_type": "stream",
     "text": [
      "1\n",
      "2\n"
     ]
    }
   ],
   "source": [
    "#Q4 Answer\n",
    "def func3(x):\n",
    "    for i in x :\n",
    "        yield i\n",
    "        \n",
    "x = [1,2,3,4,5]        \n",
    "gen_object = func3(x)\n",
    "print(next(gen_object))\n",
    "print(next(gen_object))"
   ]
  },
  {
   "cell_type": "markdown",
   "id": "06a0d445-c097-4642-b6cb-2c3145940018",
   "metadata": {},
   "source": [
    "Q5. Create a generator function for prime numbers less than 1000. Use the next() method to print the\n",
    "first 20 prime numbers."
   ]
  },
  {
   "cell_type": "code",
   "execution_count": 57,
   "id": "a093ef26-eee2-4605-8df1-f1adb0f2d5f0",
   "metadata": {},
   "outputs": [
    {
     "name": "stdout",
     "output_type": "stream",
     "text": [
      "2\n",
      "3\n",
      "5\n",
      "7\n",
      "11\n",
      "13\n",
      "17\n",
      "19\n",
      "23\n",
      "29\n",
      "31\n",
      "37\n",
      "41\n",
      "43\n",
      "47\n",
      "53\n",
      "59\n",
      "61\n",
      "67\n",
      "71\n"
     ]
    }
   ],
   "source": [
    "#Q5 Answer \n",
    "\n",
    "def is_prime(num):\n",
    "    if num < 2:\n",
    "        return False\n",
    "    for i in range(2, int(num ** 0.5) + 1):\n",
    "        if num % i == 0:\n",
    "            return False\n",
    "    return True\n",
    "\n",
    "\n",
    "def gen_prime():\n",
    "    for num in range(1,1001):\n",
    "        if is_prime(num) == True:\n",
    "            yield num\n",
    "    \n",
    "gen4 = gen_prime()\n",
    "\n",
    "for j in range(1,21):\n",
    "    print(next(gen4))\n"
   ]
  }
 ],
 "metadata": {
  "kernelspec": {
   "display_name": "Python 3 (ipykernel)",
   "language": "python",
   "name": "python3"
  },
  "language_info": {
   "codemirror_mode": {
    "name": "ipython",
    "version": 3
   },
   "file_extension": ".py",
   "mimetype": "text/x-python",
   "name": "python",
   "nbconvert_exporter": "python",
   "pygments_lexer": "ipython3",
   "version": "3.10.8"
  }
 },
 "nbformat": 4,
 "nbformat_minor": 5
}
